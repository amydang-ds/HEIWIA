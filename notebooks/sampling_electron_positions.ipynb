{
 "cells": [
  {
   "cell_type": "code",
   "execution_count": 1,
   "metadata": {
    "collapsed": true
   },
   "outputs": [],
   "source": [
    "import numpy as np\n",
    "import pandas as pd\n",
    "import math\n",
    "import os\n",
    "import matplotlib.pyplot as plt\n",
    "\n",
    "%matplotlib inline"
   ]
  },
  {
   "cell_type": "code",
   "execution_count": 11,
   "metadata": {},
   "outputs": [],
   "source": [
    "class Core(object):\n",
    "    m = 18.0 * 1836\n",
    "    Z = 10\n",
    "    N = 9\n",
    "    \n",
    "    etat0 = 1.792\n",
    "    etat1 = 0.4515 \n",
    "    netat0 = 2.710 \n",
    "    netat1 = 0.3671 \n",
    "\n",
    "    netat = netat0 + netat1 * (Z - N - 1)\n",
    "    etat = etat0 + etat1 * (Z - N -1)\n",
    "\n",
    "    unit = 27.2114 \n",
    "    Eb1 = 12.62 / unit \n",
    "    Eb2 = 14.75 / unit \n",
    "    Eb3 = 18.51 / unit \n",
    "    Eb4 = 32.4 / unit \n",
    "    Eb5 = 539.7 / unit \n",
    "\n",
    "    def Omega(self, r):\n",
    "        return 1 / (self.netat * (math.exp(r * self.etat) - 1) / self.etat + 1)\n",
    "\n",
    "    def Zc(self, r):\n",
    "        return self.Z - self.N * (1 - self.Omega(r))\n",
    "\n",
    "    def dZc(self, r):\n",
    "        return - self.N * self.netat * math.exp(r * self.etat) * self.Omega(r) ** 2\n",
    "\n",
    "    def Vc(self, r):\n",
    "        return self.Zc(r) / r \n",
    "\n",
    "    def find_max_radius(self, Eb, x, y):\n",
    "        tolerance = 1e-14\n",
    "        a = x \n",
    "        b = y \n",
    "        while abs(b - a) >= tolerance:\n",
    "            c = (a + b) / 2\n",
    "            if (self.Vc(a) - Eb) * (self.Vc(c) - Eb) > 0:\n",
    "                a = c \n",
    "            else:\n",
    "                b = c \n",
    "\n",
    "        c = a \n",
    "        return c \n",
    "\n",
    "    def generate_radius(Eb):\n",
    "        pass "
   ]
  },
  {
   "cell_type": "code",
   "execution_count": 15,
   "metadata": {},
   "outputs": [
    {
     "name": "stdout",
     "output_type": "stream",
     "text": [
      "4.999999999999991\n"
     ]
    }
   ],
   "source": [
    "c = Core()\n",
    "print(c.find_max_radius(c.Eb5, 0.3, 5))"
   ]
  },
  {
   "cell_type": "code",
   "execution_count": null,
   "metadata": {
    "collapsed": true
   },
   "outputs": [],
   "source": [
    "# TO-DO: Create dataframe: particle, mass, Z, N, etat0, etat1, netat0, netat1,orbitals"
   ]
  }
 ],
 "metadata": {
  "kernelspec": {
   "display_name": "Python 3",
   "language": "python",
   "name": "python3"
  },
  "language_info": {
   "codemirror_mode": {
    "name": "ipython",
    "version": 3
   },
   "file_extension": ".py",
   "mimetype": "text/x-python",
   "name": "python",
   "nbconvert_exporter": "python",
   "pygments_lexer": "ipython3",
   "version": "3.6.2"
  }
 },
 "nbformat": 4,
 "nbformat_minor": 2
}
